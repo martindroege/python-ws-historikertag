{
 "cells": [
  {
   "cell_type": "markdown",
   "metadata": {},
   "source": [
    "# angewandter Fall: HSozKult-Scraper"
   ]
  },
  {
   "cell_type": "markdown",
   "metadata": {},
   "source": [
    "Ziel: Hsozkult scrapen"
   ]
  },
  {
   "cell_type": "code",
   "execution_count": 1,
   "metadata": {},
   "outputs": [],
   "source": [
    "import re\n",
    "from urllib.request import urlopen\n",
    "from bs4 import BeautifulSoup"
   ]
  },
  {
   "cell_type": "code",
   "execution_count": 2,
   "metadata": {},
   "outputs": [
    {
     "data": {
      "text/plain": [
       "'http://www.hsozkult.de/searching/page?q=rezension+grundwissenschaft'"
      ]
     },
     "execution_count": 2,
     "metadata": {},
     "output_type": "execute_result"
    }
   ],
   "source": [
    "base_url = \"http://www.hsozkult.de\"\n",
    "query_string = \"/searching/page?q=\"\n",
    "search_string = \"rezension grundwissenschaft\"\n",
    "search_string = search_string.replace(\" \", \"+\")\n",
    "url = base_url + query_string + search_string\n",
    "url"
   ]
  },
  {
   "cell_type": "code",
   "execution_count": 3,
   "metadata": {},
   "outputs": [],
   "source": [
    "search = urlopen(url)\n",
    "bs = BeautifulSoup(search, 'html.parser')"
   ]
  },
  {
   "cell_type": "code",
   "execution_count": 4,
   "metadata": {},
   "outputs": [
    {
     "data": {
      "text/plain": [
       "[<div class=\"hfn-list-itemtitle\"><a href=\"/searching/id/rezbuecher-28479?title=t-kahlert-unternehmungen-grossen-stils&amp;q=rezension grundwissenschaft&amp;sort=&amp;fq=&amp;total=19&amp;recno=1&amp;subType=reb\">\t\t\t\tT. Kahlert: Unternehmungen großen Stils</a></div>,\n",
       " <div class=\"hfn-list-itemtitle\"><a href=\"/searching/id/rezbuecher-27442?title=m-schroeter-erfolgreich-recherchieren-altertumswissenschaften&amp;q=rezension grundwissenschaft&amp;sort=&amp;fq=&amp;total=19&amp;recno=2&amp;subType=reb\">\t\t\t\tM. Schröter: Erfolgreich recherchieren – Altertumswissenschaften</a></div>,\n",
       " <div class=\"hfn-list-itemtitle\"><a href=\"/searching/id/termine-34040?title=quellen-und-methoden-der-geschichtswissenschaft-im-digitalen-zeitalter-neue-zugaenge-fuer-eine-etablierte-disziplin-digimet-2017&amp;q=rezension grundwissenschaft&amp;sort=&amp;fq=&amp;total=19&amp;recno=3&amp;subType=event\">\t\t\t\tQuellen und Methoden der Geschichtswissenschaft im digitalen Zeitalter: Neue Zugänge für eine etablierte Disziplin? DIGIMET 2017</a></div>,\n",
       " <div class=\"hfn-list-itemtitle\"><a href=\"/searching/id/rezbuecher-26541?title=c-a-stanford-hrsg-building-accounts-of-the-savoy-hospital&amp;q=rezension grundwissenschaft&amp;sort=&amp;fq=&amp;total=19&amp;recno=4&amp;subType=reb\">\t\t\t\tC. A. Stanford (Hrsg.): Building Accounts of the Savoy Hospital</a></div>,\n",
       " <div class=\"hfn-list-itemtitle\"><a href=\"/searching/id/rezbuecher-25697?title=d-avray-papacy-monarchy-and-marriage&amp;q=rezension grundwissenschaft&amp;sort=&amp;fq=&amp;total=19&amp;recno=5&amp;subType=reb\">\t\t\t\td'Avray: Papacy, Monarchy and Marriage</a></div>,\n",
       " <div class=\"hfn-list-itemtitle\"><a href=\"/searching/id/rezbuecher-25227?title=c-von-plessen-hrsg-maueranker-und-stier&amp;q=rezension grundwissenschaft&amp;sort=&amp;fq=&amp;total=19&amp;recno=6&amp;subType=reb\">\t\t\t\tC. von Plessen (Hrsg.): Maueranker und Stier</a></div>,\n",
       " <div class=\"hfn-list-itemtitle\"><a href=\"/searching/id/rezbuecher-25088?title=w-schmale-hrsg-digital-humanities&amp;q=rezension grundwissenschaft&amp;sort=&amp;fq=&amp;total=19&amp;recno=7&amp;subType=reb\">\t\t\t\tW. Schmale (Hrsg.): Digital Humanities</a></div>,\n",
       " <div class=\"hfn-list-itemtitle\"><a href=\"/searching/id/diskussionen-2944?title=forum-j-keupp-die-digitale-herausforderung-kein-reservat-der-hilfswissenschaften&amp;q=rezension grundwissenschaft&amp;sort=&amp;fq=&amp;total=19&amp;recno=8&amp;subType=fddebate\">\t\t\t\tForum: J. Keupp: Die digitale Herausforderung: Kein Reservat der Hilfswissenschaften</a></div>,\n",
       " <div class=\"hfn-list-itemtitle\"><a href=\"/searching/id/diskussionen-2908?title=forum-k-ubl-mehr-kooperation&amp;q=rezension grundwissenschaft&amp;sort=&amp;fq=&amp;total=19&amp;recno=9&amp;subType=fddebate\">\t\t\t\tForum: K. Ubl: Mehr Kooperation!</a></div>,\n",
       " <div class=\"hfn-list-itemtitle\"><a href=\"/searching/id/zeitschriftenausgaben-9251?title=francia-recensio-2015-3&amp;q=rezension grundwissenschaft&amp;sort=&amp;fq=&amp;total=19&amp;recno=10&amp;subType=z6ann\">\t\t\t\tFrancia-Recensio (2015), 3</a></div>,\n",
       " <div class=\"hfn-list-itemtitle\"><a href=\"/searching/id/rezbuecher-16748?title=w-hein-die-mathematik-im-mittelalter&amp;q=rezension grundwissenschaft&amp;sort=&amp;fq=&amp;total=19&amp;recno=11&amp;subType=reb\">\t\t\t\tW. Hein: Die Mathematik im Mittelalter</a></div>,\n",
       " <div class=\"hfn-list-itemtitle\"><a href=\"/searching/id/zeitschriftenausgaben-6107?title=mitteilungen-des-instituts-fuer-oesterreichische-geschichtsforschung-119-2011-1-2&amp;q=rezension grundwissenschaft&amp;sort=&amp;fq=&amp;total=19&amp;recno=12&amp;subType=z6ann\">\t\t\t\tMitteilungen des Instituts für Österreichische Geschichtsforschung 119  (2011), 1-2</a></div>,\n",
       " <div class=\"hfn-list-itemtitle\"><a href=\"/searching/id/rezbuecher-12870?title=e-henning-hilfswissenschaften-test&amp;q=rezension grundwissenschaft&amp;sort=&amp;fq=&amp;total=19&amp;recno=13&amp;subType=reb\">\t\t\t\tE. Henning: Hilfswissenschaften-Test</a></div>,\n",
       " <div class=\"hfn-list-itemtitle\"><a href=\"/searching/id/rezbuecher-9494?title=s-panzram-basiswissen-proseminar-alte-geschichte&amp;q=rezension grundwissenschaft&amp;sort=&amp;fq=&amp;total=19&amp;recno=14&amp;subType=reb\">\t\t\t\tS. Panzram: Basiswissen Proseminar Alte Geschichte</a></div>,\n",
       " <div class=\"hfn-list-itemtitle\"><a href=\"/searching/id/rezbuecher-7974?title=h-g-zekl-hrsg-martianus-capella&amp;q=rezension grundwissenschaft&amp;sort=&amp;fq=&amp;total=19&amp;recno=15&amp;subType=reb\">\t\t\t\tH.G. Zekl (Hrsg.): Martianus Capella</a></div>,\n",
       " <div class=\"hfn-list-itemtitle\"><a href=\"/searching/id/rezbuecher-6927?title=h-leppin-einfuehrung-in-die-alte-geschichte&amp;q=rezension grundwissenschaft&amp;sort=&amp;fq=&amp;total=19&amp;recno=16&amp;subType=reb\">\t\t\t\tH. Leppin: Einführung in die Alte Geschichte</a></div>,\n",
       " <div class=\"hfn-list-itemtitle\"><a href=\"/searching/id/rezbuecher-6672?title=m-peachin-frontinus-and-the-curae-of-the-curator-aquarum&amp;q=rezension grundwissenschaft&amp;sort=&amp;fq=&amp;total=19&amp;recno=17&amp;subType=reb\">\t\t\t\tM. Peachin: Frontinus and the Curae of the Curator Aquarum</a></div>,\n",
       " <div class=\"hfn-list-itemtitle\"><a href=\"/searching/id/rezbuecher-6615?title=e-v-boeselager-geschichte-der-schrift&amp;q=rezension grundwissenschaft&amp;sort=&amp;fq=&amp;total=19&amp;recno=18&amp;subType=reb\">\t\t\t\tE. v. Boeselager, Geschichte der Schrift</a></div>,\n",
       " <div class=\"hfn-list-itemtitle\"><a href=\"/searching/id/rezbuecher-889?title=chr-tilitzki-die-deutsche-universitaetsphilosophie&amp;q=rezension grundwissenschaft&amp;sort=&amp;fq=&amp;total=19&amp;recno=19&amp;subType=reb\">\t\t\t\tChr. Tilitzki: Die deutsche Universitätsphilosophie</a></div>]"
      ]
     },
     "execution_count": 4,
     "metadata": {},
     "output_type": "execute_result"
    }
   ],
   "source": [
    "results = bs.find_all('div', {'class': 'hfn-list-itemtitle'})\n",
    "results"
   ]
  },
  {
   "cell_type": "code",
   "execution_count": 7,
   "metadata": {},
   "outputs": [
    {
     "data": {
      "text/plain": [
       "'/searching/id/rezbuecher-28479?title=t-kahlert-unternehmungen-grossen-stils&q=rezension grundwissenschaft&sort=&fq=&total=19&recno=1&subType=reb'"
      ]
     },
     "execution_count": 7,
     "metadata": {},
     "output_type": "execute_result"
    }
   ],
   "source": [
    "first_hit = results[0].find('a')['href']\n",
    "first_hit"
   ]
  },
  {
   "cell_type": "code",
   "execution_count": 10,
   "metadata": {},
   "outputs": [
    {
     "data": {
      "text/plain": [
       "'http://www.hsozkult.de/searching/id/rezbuecher-28479?title=t-kahlert-unternehmungen-grossen-stils&q=rezension%20grundwissenschaft&sort=&fq=&total=19&recno=1&subType=reb'"
      ]
     },
     "execution_count": 10,
     "metadata": {},
     "output_type": "execute_result"
    }
   ],
   "source": [
    "link_url = base_url + first_hit\n",
    "link_url = link_url.replace(\" \", \"%20\")\n",
    "link_url"
   ]
  },
  {
   "cell_type": "code",
   "execution_count": 12,
   "metadata": {},
   "outputs": [],
   "source": [
    "review_html = urlopen(link_url)\n",
    "bs_review = BeautifulSoup(review_html, 'html.parser')"
   ]
  },
  {
   "cell_type": "code",
   "execution_count": 13,
   "metadata": {},
   "outputs": [
    {
     "data": {
      "text/plain": [
       "{'Autor(en)': 'Kahlert, Torsten',\n",
       " 'Erschienen': 'Berlin  2017:              be.bra Verlag',\n",
       " 'ISBN': '978-3-95410-089-7',\n",
       " 'Preis': '€ 40,00',\n",
       " 'Titel': '„Unternehmungen großen Stils“.  Wissenschaftsorganisation, Objektivität und Historismus im 19. Jahrhundert',\n",
       " 'Umfang': '384 S.'}"
      ]
     },
     "execution_count": 13,
     "metadata": {},
     "output_type": "execute_result"
    }
   ],
   "source": [
    "meta_data = {}\n",
    "\n",
    "for key, val in bs_review.find_all('div', {'class': 'hfn-item-metarow'}):\n",
    "    k = key.get_text()\n",
    "    k = k.strip()\n",
    "    v = val.get_text()\n",
    "    v = v.strip()\n",
    "    v = re.sub(r\"[\\n\\t]\", \" \", v)\n",
    "    if k != \"\":\n",
    "        meta_data[k] = v\n",
    "        \n",
    "meta_data"
   ]
  },
  {
   "cell_type": "code",
   "execution_count": 15,
   "metadata": {},
   "outputs": [
    {
     "data": {
      "text/plain": [
       "['Digital history wird diskutiert[1], ausprobiert[2] und – vereinzelt – institutionalisiert.[3] Inwiefern die Auswertung massenhafter Datensätze durch digitale Techniken zur Erweiterung historischen Wissens beiträgt, ist dabei noch offen. Torsten Kahlerts Dissertation, die an der Humboldt-Universität Berlin entstanden und 2017 publiziert worden ist, liest sich vor diesem Hintergrund mehr als interessant. Ausgehend von den Fragen nach ihrer Legitimation, institutionellen Verankerung, Konstruktion, Konsequenz für den Wissenschaftsbetrieb und den Praktiken ihrer Umsetzung untersucht Kahlert drei Massendatenprojekte des 19. Jahrhunderts: Theodor Mommsens Corpus Inscriptionum Latinarum (CIL) (S. 53–184), Rudolf Virchows „Schulkinderuntersuchung“ (S. 185–273) und Gustav Schmollers Acta Borussica (S. 275–319). Alle Fallbeispiele sind begründet ausgewählt, denn ihre Fachrichtungen gehörten zeitgenössisch zu den zentralen Disziplinen, ihre Initiatoren besaßen eine ähnliche Reputation und sie waren die größten wissenschaftlichen Projekte ihrer Zeit. Geschickt wird die mögliche Diskussionsfalle im Gegensatz Geisteswissenschaft/Naturwissenschaft umschifft und stattdessen explizit auf die Möglichkeit verwiesen, durch den transdisziplinären Vergleich die „gemeinsamen Ursprünge projektförmiger Forschung“ (S. 14) zu beleuchten. Der Titel der Studie, „Unternehmungen großen Stils“, wird gesondert reflektiert, da es sich um keinen Quellenbegriff handelt, sondern weil er verschiedene, semantisch ähnliche zeitgenössische Umschreibungen verdichtet und sich zugleich der Beliebigkeit des Projektbegriffs entzieht (S. 31–39). Dieser Ansatz ist originell, für die weitere Analyse aber nicht unbedingt als wesentlich erkennbar. ',\n",
       " 'Die Studie ruht auf einem breiten Quellenkorpus und setzt sich zusammen aus archivalischer Überlieferung (Nachlässe, Antrags- und Projektakten, u.a. aus dem Archiv der Berlin-Brandenburgischen Akademie der Wissenschaften), Kartogrammen (aus dem Archiv der Berliner Gesellschaft für Anthropologie, Ethnologie und Urgeschichte), Musealien und Gegenständen der Praxis wissenschaftlichen Arbeitens. Mit diesem Fundament kommt Kahlert im Rahmen detaillierter, aber nicht detailverliebter Einzelanalysen zu Ergebnissen, die die institutionellen Bedingungen für und von wissenschaftlichen Großprojekten, die mit ihnen erwachsenden epistemologischen Herausforderungen der Sammlung von großen Datenmengen, sowie ihre Rolle als soziale Räume im Gehäuse des Wissenschaftsbetriebes sichtbar machen (vgl. die konzise Zusammenfassung, S. 321–332). Weil alle Aspekte für jedes Fallbeispiel erarbeitet wurden, kann eine Rezension nicht erschöpfend zusammenfassen, sondern nur auswählend Beispiele der Analyse vorstellen. ',\n",
       " 'Kahlert kann überzeugend zeigen, dass Großprojekte zwar primär als von ihren Initiatoren erarbeitet und umgesetzt erscheinen, diese Individuen aber tatsächlich in einem Geflecht aus Forschungsideen, Diskursen, Netzwerken und Institutionen operierten bzw. durch dieses Geflecht wirken konnten. So ging der Entwurf des CIL auf frühere oder auf Impulse ähnlicher, ausländischer Projekte zurück, und es entwickelten sich Argumente in engen formellen wie informellen Netzwerken zwischen Individuen im Vorder- und Hintergrund, was etwa die Sonderrolle Bartolomeo Borghesis zeigt (S. 90–94). Mommsen, so hat man den Eindruck, scheiterte zum Erfolg: Durch Rückschläge wie die zunächst abgelehnte Förderung durch die Preußische Akademie der Wissenschaften oder den Verlust der Professur infolge seines Engagements in der Revolution 1848/49, musste Mommsen neue Netzwerke erschließen und sich neue Qualitäten und Fähigkeiten aneignen, die schließlich zur erfolgreichen Begründung des Sammlungsprojektes beitrugen. Ohne die Rolle Marie Mommsens als eindrücklich herausgearbeitetes Schlüsselrelais der Korrespondenz zwischen ihrem ständig reisenden, weil Inskriptionen sichernden Ehemann schließlich, erscheinen die Leistungen des Forschungsorganisators nicht länger vorstellbar (S. 173–182). Kahlert dezentriert die Person Mommsen erfolgreich, indem er ihre zunehmende – nicht a priori gegebene – Bedeutung mit dem Werden des CIL parallelisiert. ',\n",
       " 'Ein eindrückliches Beispiel dafür, dass die Herstellung von Objektivität sprichwörtlich von der (An-)Sicht der Dinge abhängt, zeigt sich in der Analyse der „Schulkinderuntersuchung“. Im Anschluss an die Forschungskontroverse, ob und wie Virchow bzw. die Untersuchung den rassistischen und antisemitischen Diskurs in Deutschland befördert habe (S. 186–195), konzentriert sich Kahlert auf die Frage, wie „ein bestimmtes Forschungsmuster möglicherweise größere Wirkung entfalten kann als die Deutung von statistischen Ergebnissen“ (S. 188). Dabei wertet er die Konzeption, Umsetzung und praktische Herstellung der Kartogramme aus, die den geographischen Raum und erlangte statistische Daten ins Verhältnis setzten, und das Endziel der Untersuchung waren. Dabei zeigt sich, dass die Art und Anzahl der verwendeten Farben, ihre Anzahl und ihre Nuancierung durch Schraffur eben nicht dazu beitrugen, statistische Werte differenziert auf dem geographischen Raum abzubilden. Sie erzeugten unterschiedliche Interpretationen, waren abhängig von psychologisch induzierten Vorannahmen und ließen einen vielfach heterogenen Raum wesentlich homogener erscheinen (insb. S. 247–257). Die Mahnung C. G. Jungs, dass „die statistische Methode […] zwar die ideale Durchschnittlichkeit eines Sachverhaltes, nicht aber ein Bild von dessen empirischer Wirklichkeit“[4] vermittelt, kann Kahlert hier eindrucksvoll bestätigen. „Rasse\" und Raum verschränkten sich miteinander, weil Äußerlichkeiten in der, auf dem Objektivitätsideal der Zeit fußenden Massenerfassung, „objektiv“ abgrenzbare Bedeutung erhielten. ',\n",
       " 'Die Analyse der Acta Borussica schließlich zeigt, wie abhängig Forschung und ihre erfolgreiche Finanzierung von herrschenden Narrativen und dem Wissen um die Funktionsweise von Entscheidungswegen war (und ist): War das CIL Theodor Mommsens noch von Rückschlägen begleitet, bis es schließlich bewilligt wurde, konnte die Arbeit an den Acta bereits ein halbes Jahr nach der Antragstellung beginnen. Warum, das zeigt eine kenntnisreiche Kontextualisierung der Person Gustav Schmollers sowie eine dichte Analyse des Antragstextes. Die Preußische Akademie der Wissenschaften war (u.a. durch das CIL) mit der Art von Projektgröße bereits vertraut, Schmoller benötigte als arriviertes Mitglied der Akademie kein breites Netzwerk (im Gegensatz zu Mommsen, der am Beginn seiner Laufbahn gestanden hatte), sondern setzte auf einflussreiche Individuen in Akademie und Kultusministerium, wie Heinrich von Sybel und Friedrich Althoff. Der Antragstext zeigte eine geschickte Rhetorik, in dem er die Möglichkeit zu tiefgehender „Groß“-Forschung mit dem Narrativ des Historismus, dem Aufgehen der Geschichte im deutschen Kaiserreich unter preußischer Ägide, verband (S. 295–304). Deutlich zeigt sich an den Acta aber auch der Unterschied der Nachwuchsförderung durch projektierte Forschung: Brachte das CIL mehrere bekannt gewordene Professoren hervor, hatte Schmoller die Acta Borussica primär als Teil seiner historischen Nationalökonomie und damit seiner Interessen aus der Taufe gehoben – was dazu führte, dass Mitarbeiter größtenteils kein eigenständiges wissenschaftliches Standing – mit Otto Hintze als Ausnahme – entwickelten (S. 304–314). Das Potenzial der geschichtswissenschaftlichen Perspektive auf material culture demonstriert Kahlert im Abschnitt „Schmollers Schrank“ (S. 315–318), der Erkenntnisse zum Spannungsverhältnis von Individuum (Schmoller) und Institution (Akademie) sinnvoll bereichert. ',\n",
       " 'Torsten Kahlert legt mit seiner Dissertation eine ansprechende, interessante und für viele Bereiche anschlussfähige Studie vor, was nicht zuletzt die aufgezeigten Forschungsdesiderate dokumentieren. Nachdrücklich sei auf die Bedeutung der Ergebnisse für die zu Beginn angeführte Diskussion um digital history verwiesen. Kahlert stellt Fragen an die Geschichte der Wissenschaftsorganisation, die historiographisch und methodisch gegenwärtig interessant sind: Welche Diskurse bringen die Forderung nach ‚vollständiger(er)‘ Quellenerfassung durch digitale Massenerschließung hervor? Welche Bedeutung haben sie im Zusammenhang mit dem heutigen Normalzustand projektierter Forschung für den wissenschaftlichen Nachwuchs und dessen soziale Verfassung – und wo bleiben die Versprechungen nach neuen Chancen leer? Ergibt sich aus der Auswertung digitalisierter Quellen en masse neue historische Erkenntnis? Man wünscht diesem Buch, dass es produktiv zu diesen Fragen beitragen kann. Bleiben diese Themen doch, um Torsten Kahlert das verdiente letzte Wort zu überlassen, nicht nur „Grundprobleme der Wissenschaften“, sondern „gleichzeitig auch Aufgaben, die von Gelehrten und Forschern gelöst werden müssen, nicht von Massendaten“ (S. 332).',\n",
       " 'Anmerkungen:[1] Vgl. das Diskussionsforum: Historische Grundwissenschaften und die digitale Herausforderung, in: H-Soz-Kult, 15.11.2015, www.hsozkult.de/text/id/texte-2890 (11.12.2017).[2] Vgl. den Doktoranden-Workshop „Text mining in den Geisteswissenschaften“, 07.03.2018 Frankfurt am Main, in: H-Soz-Kult, 19.11.2017, www.hsozkult.de/event/id/termine-35737 (11.12.2017).[3] Vgl. z.B. das Journal of Data Mining & Digital Humanities, https://jdmdh.episciences.org/ (11.12.2017)[4] Carl Gustav Jung, Gegenwart und Zukunft. Sonderbeilage Schweizer Monatshefte 36 (1957), S. 4.']"
      ]
     },
     "execution_count": 15,
     "metadata": {},
     "output_type": "execute_result"
    }
   ],
   "source": [
    "review = bs_review.find('div', {'class': 'hfn-item-fulltext'}).find_all('p')\n",
    "review_content = [paragraph.get_text() for paragraph in review]\n",
    "review_content"
   ]
  },
  {
   "cell_type": "code",
   "execution_count": 16,
   "metadata": {},
   "outputs": [],
   "source": [
    "with open('rezension.txt', 'w', encoding='utf-8') as f:\n",
    "    f.write(\"Rezension von: {}: {}, {}\".format(\n",
    "        meta_data['Autor(en)'],\n",
    "        meta_data['Titel'], \n",
    "        meta_data['Erschienen']))\n",
    "    f.write(\"\\n\\n\")\n",
    "    f.write(\"\\n\".join(review_content))"
   ]
  }
 ],
 "metadata": {
  "kernelspec": {
   "display_name": "Python 3",
   "language": "python",
   "name": "python3"
  },
  "language_info": {
   "codemirror_mode": {
    "name": "ipython",
    "version": 3
   },
   "file_extension": ".py",
   "mimetype": "text/x-python",
   "name": "python",
   "nbconvert_exporter": "python",
   "pygments_lexer": "ipython3",
   "version": "3.6.6"
  }
 },
 "nbformat": 4,
 "nbformat_minor": 2
}
