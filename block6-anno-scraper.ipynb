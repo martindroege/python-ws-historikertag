{
 "cells": [
  {
   "cell_type": "markdown",
   "metadata": {
    "slideshow": {
     "slide_type": "slide"
    }
   },
   "source": [
    "# Block 6 Web Scraping Zeitungsportal Anno\n",
    "URL: Übersicht der verfügbaren Zeitungen:\n",
    "\n",
    "* http://anno.onb.ac.at/alph_list.htm"
   ]
  },
  {
   "cell_type": "markdown",
   "metadata": {
    "slideshow": {
     "slide_type": "subslide"
    }
   },
   "source": [
    "Das Skript kann verschiedene txt-Dateien aus dem österreichischen Zeitungsportal Anno herunter.\n",
    "Die txt-Dateien sind per OCR erfasst; Erkennungsfehler sind reichlich vorhanden."
   ]
  },
  {
   "cell_type": "markdown",
   "metadata": {
    "slideshow": {
     "slide_type": "slide"
    }
   },
   "source": [
    "## Ermittlung der URL"
   ]
  },
  {
   "cell_type": "markdown",
   "metadata": {
    "slideshow": {
     "slide_type": "subslide"
    }
   },
   "source": [
    "* Zeitung auswählen\n",
    "* Jahresübersicht auswählen\n",
    "* Ausgabe auswählen\n",
    "* Anzeige als txt auswählen\n",
    "* am Ende der URL die Seitenzahl durch x ersetzen; auf diese Weise wird die gesamte Ausgabe ausgewählt\n",
    "* in der URL findet sich ein Datumformat in der Form yyyymmdd; auf diese Weise kann in einer Schleife  das Datum genutzt werden"
   ]
  },
  {
   "cell_type": "markdown",
   "metadata": {
    "slideshow": {
     "slide_type": "slide"
    }
   },
   "source": [
    "## Das Skript"
   ]
  },
  {
   "cell_type": "code",
   "execution_count": null,
   "metadata": {
    "slideshow": {
     "slide_type": "subslide"
    }
   },
   "outputs": [],
   "source": [
    "import requests\n",
    "import time\n",
    "import pandas as pd\n",
    "from datetime import date"
   ]
  },
  {
   "cell_type": "markdown",
   "metadata": {
    "slideshow": {
     "slide_type": "slide"
    }
   },
   "source": [
    "URL"
   ]
  },
  {
   "cell_type": "code",
   "execution_count": null,
   "metadata": {
    "slideshow": {
     "slide_type": "subslide"
    }
   },
   "outputs": [],
   "source": [
    "url_root = \"http://anno.onb.ac.at/cgi-content/annoshow?text=dar|\" # URL der Zeitung einfügen\n",
    "url_root_2 = \"|x\"  # steht für alle Seiten einer Ausgabe\n",
    "name_zeitung = \"die-arbeit\""
   ]
  },
  {
   "cell_type": "markdown",
   "metadata": {
    "slideshow": {
     "slide_type": "slide"
    }
   },
   "source": [
    "Beginn und Ende der Schleife im Datumsformat"
   ]
  },
  {
   "cell_type": "code",
   "execution_count": null,
   "metadata": {
    "slideshow": {
     "slide_type": "subslide"
    }
   },
   "outputs": [],
   "source": [
    "start_date = date(1886, 1, 1) # Start des Zeitraums\n",
    "end_date = date(1886, 1, 22) # Ende des Zeitraums"
   ]
  },
  {
   "cell_type": "markdown",
   "metadata": {
    "slideshow": {
     "slide_type": "slide"
    }
   },
   "source": [
    "Mit Pandas ein date_range-Objekt erstellen"
   ]
  },
  {
   "cell_type": "code",
   "execution_count": null,
   "metadata": {
    "slideshow": {
     "slide_type": "subslide"
    }
   },
   "outputs": [],
   "source": [
    "daterange = pd.date_range(start_date, end_date)"
   ]
  },
  {
   "cell_type": "markdown",
   "metadata": {
    "slideshow": {
     "slide_type": "slide"
    }
   },
   "source": [
    "Über das date_range-Objekt iterieren"
   ]
  },
  {
   "cell_type": "code",
   "execution_count": null,
   "metadata": {
    "slideshow": {
     "slide_type": "subslide"
    }
   },
   "outputs": [],
   "source": [
    "for date in daterange:\n",
    "    \n",
    "    date_id = date.strftime(\"%Y%m%d\")\n",
    "    \n",
    "    response = requests.get(url_root + date_id + url_root_2)\n",
    "    text = response.text\n",
    "    \n",
    "    print(date_id)\n",
    "    \n",
    "    if len(text)!= 0: \n",
    "        \n",
    "        # speichern der einzelnen Ausgabe\n",
    "        with open(date_id + \"-\" + name_zeitung + \".txt\", \"w\", encoding=\"utf-8\") as file:\n",
    "            file.write(text)\n",
    "            \n",
    "        # speichern eines gesamten Jahrgangs\n",
    "        with open(\"1886-jahrgang-\" + name_zeitung + \".txt\", \"a\", encoding=\"utf-8\") as file:\n",
    "            file.write(text + \"\\n\")\n",
    "    \n",
    "    time.sleep(2)"
   ]
  }
 ],
 "metadata": {
  "kernelspec": {
   "display_name": "Python 3",
   "language": "python",
   "name": "python3"
  },
  "language_info": {
   "codemirror_mode": {
    "name": "ipython",
    "version": 3
   },
   "file_extension": ".py",
   "mimetype": "text/x-python",
   "name": "python",
   "nbconvert_exporter": "python",
   "pygments_lexer": "ipython3",
   "version": "3.6.6"
  }
 },
 "nbformat": 4,
 "nbformat_minor": 2
}
