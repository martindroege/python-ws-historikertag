{
 "cells": [
  {
   "cell_type": "markdown",
   "metadata": {
    "slideshow": {
     "slide_type": "slide"
    }
   },
   "source": [
    "# Block 5: eigene Funktionen schreiben für Preprocessing von Texten"
   ]
  },
  {
   "cell_type": "markdown",
   "metadata": {},
   "source": [
    "## Grundgesetz runterladen"
   ]
  },
  {
   "cell_type": "code",
   "execution_count": null,
   "metadata": {},
   "outputs": [],
   "source": [
    "import requests\n",
    "from bs4 import BeautifulSoup"
   ]
  },
  {
   "cell_type": "code",
   "execution_count": null,
   "metadata": {},
   "outputs": [],
   "source": [
    "url = \"https://www.bundestag.de/gg\"\n",
    "response = requests.get(url)\n",
    "html = response.text"
   ]
  },
  {
   "cell_type": "code",
   "execution_count": null,
   "metadata": {},
   "outputs": [],
   "source": [
    "soup = BeautifulSoup(html, \"html.parser\")\n",
    "html_text = soup.find(attrs={\"class\": \"bt-standard-content\"})\n",
    "text = html_text.get_text()"
   ]
  },
  {
   "cell_type": "code",
   "execution_count": null,
   "metadata": {},
   "outputs": [],
   "source": [
    "with open(\"grundgesetz.txt\", \"w\", encoding=\"utf-8\") as infile:\n",
    "    infile.write(text)"
   ]
  },
  {
   "cell_type": "markdown",
   "metadata": {},
   "source": [
    "## Text Datei einlesen"
   ]
  },
  {
   "cell_type": "code",
   "execution_count": null,
   "metadata": {},
   "outputs": [],
   "source": [
    "infile = open(\"grundgesetz.txt\", encoding=\"utf-8\")\n",
    "grundgesetz = infile.read()\n",
    "infile.close()"
   ]
  },
  {
   "cell_type": "markdown",
   "metadata": {},
   "source": [
    "Alternative:"
   ]
  },
  {
   "cell_type": "code",
   "execution_count": null,
   "metadata": {
    "collapsed": true,
    "scrolled": true,
    "slideshow": {
     "slide_type": "fragment"
    }
   },
   "outputs": [],
   "source": [
    "with open(\"grundgesetz.txt\", encoding=\"utf-8\") as infile:\n",
    "    grundgesetz = infile.read()"
   ]
  },
  {
   "cell_type": "markdown",
   "metadata": {
    "slideshow": {
     "slide_type": "slide"
    }
   },
   "source": [
    "## Text vorbereiten"
   ]
  },
  {
   "cell_type": "markdown",
   "metadata": {
    "slideshow": {
     "slide_type": "fragment"
    }
   },
   "source": [
    "### Punktation entfernen"
   ]
  },
  {
   "cell_type": "code",
   "execution_count": null,
   "metadata": {
    "collapsed": true,
    "scrolled": true,
    "slideshow": {
     "slide_type": "fragment"
    }
   },
   "outputs": [],
   "source": [
    "def remove_punc(text):\n",
    "    punctuation = '!@#$%^&*()_-+={}[]:;\"\\'|<>,.?/~`'\n",
    "    \n",
    "    for marker in punctuation:\n",
    "        text = text.replace(marker, \"\")\n",
    "    return text"
   ]
  },
  {
   "cell_type": "markdown",
   "metadata": {},
   "source": [
    "## alternative aus Programming Historian Lesson: *Normalizing Textual Data with Python*"
   ]
  },
  {
   "cell_type": "code",
   "execution_count": null,
   "metadata": {},
   "outputs": [],
   "source": [
    "# Given a text string, remove all non-alphanumeric\n",
    "# characters (using Unicode definition of alphanumeric).\n",
    "\n",
    "def stripNonAlphaNum(text):\n",
    "    import re\n",
    "    return re.compile(r'\\W+', re.UNICODE).split(text)"
   ]
  },
  {
   "cell_type": "markdown",
   "metadata": {
    "slideshow": {
     "slide_type": "fragment"
    }
   },
   "source": [
    "### Text säubern und Kleinschreibung"
   ]
  },
  {
   "cell_type": "code",
   "execution_count": null,
   "metadata": {
    "collapsed": true,
    "scrolled": true,
    "slideshow": {
     "slide_type": "fragment"
    }
   },
   "outputs": [],
   "source": [
    "def clean_text(text):\n",
    "    return remove_punc(text.lower())\n",
    "\n",
    "text = clean_text(grundgesetz)"
   ]
  },
  {
   "cell_type": "markdown",
   "metadata": {
    "slideshow": {
     "slide_type": "slide"
    }
   },
   "source": [
    "## Text in Worte aufteilen und in Liste speichern"
   ]
  },
  {
   "cell_type": "code",
   "execution_count": null,
   "metadata": {
    "scrolled": true,
    "slideshow": {
     "slide_type": "fragment"
    }
   },
   "outputs": [],
   "source": [
    "words = text.split()"
   ]
  },
  {
   "cell_type": "code",
   "execution_count": null,
   "metadata": {
    "scrolled": true,
    "slideshow": {
     "slide_type": "fragment"
    }
   },
   "outputs": [],
   "source": [
    "print(\"Anzahl aller Worte des Textes: \", (len(words)))\n",
    "print(\"=======\")\n",
    "print(words[:10])"
   ]
  },
  {
   "cell_type": "markdown",
   "metadata": {
    "slideshow": {
     "slide_type": "slide"
    }
   },
   "source": [
    "## bestimmtes Wort zählen"
   ]
  },
  {
   "cell_type": "code",
   "execution_count": null,
   "metadata": {
    "scrolled": true,
    "slideshow": {
     "slide_type": "fragment"
    }
   },
   "outputs": [],
   "source": [
    "number_of_hits = 0\n",
    "item_to_count = \"gesetz\"\n",
    "for word in words:\n",
    "    if word == item_to_count:\n",
    "        number_of_hits += 1\n",
    "        \n",
    "print(number_of_hits)"
   ]
  },
  {
   "cell_type": "markdown",
   "metadata": {
    "slideshow": {
     "slide_type": "subslide"
    }
   },
   "source": [
    "### Methode .count()"
   ]
  },
  {
   "cell_type": "code",
   "execution_count": null,
   "metadata": {
    "slideshow": {
     "slide_type": "fragment"
    }
   },
   "outputs": [],
   "source": [
    "grundgesetz.count(\"gesetz\")"
   ]
  },
  {
   "cell_type": "code",
   "execution_count": null,
   "metadata": {
    "slideshow": {
     "slide_type": "fragment"
    }
   },
   "outputs": [],
   "source": [
    "text.count(\"gesetz\")"
   ]
  },
  {
   "cell_type": "code",
   "execution_count": null,
   "metadata": {
    "slideshow": {
     "slide_type": "fragment"
    }
   },
   "outputs": [],
   "source": [
    "text.count(\" gesetz \")"
   ]
  },
  {
   "cell_type": "markdown",
   "metadata": {
    "slideshow": {
     "slide_type": "slide"
    }
   },
   "source": [
    "## Funktion zum Zählen eines bestimmten Wortes"
   ]
  },
  {
   "cell_type": "code",
   "execution_count": null,
   "metadata": {
    "scrolled": true,
    "slideshow": {
     "slide_type": "fragment"
    }
   },
   "outputs": [],
   "source": [
    "def count_in_list(item_to_count, list_to_search): \n",
    "    number_of_hits = 0                            \n",
    "    for item in list_to_search:                   \n",
    "        if item == item_to_count:                 \n",
    "            number_of_hits += 1                   \n",
    "    return number_of_hits \n",
    "\n",
    "print(count_in_list(\"freiheit\", words))"
   ]
  },
  {
   "cell_type": "markdown",
   "metadata": {
    "slideshow": {
     "slide_type": "slide"
    }
   },
   "source": [
    "## jedes Wort zählen"
   ]
  },
  {
   "cell_type": "code",
   "execution_count": null,
   "metadata": {
    "scrolled": true,
    "slideshow": {
     "slide_type": "fragment"
    }
   },
   "outputs": [],
   "source": [
    "for word in words[:10]:\n",
    "    print(word, count_in_list(word, words))"
   ]
  },
  {
   "cell_type": "markdown",
   "metadata": {
    "slideshow": {
     "slide_type": "slide"
    }
   },
   "source": [
    "## Funktion: Zählen aller Wörter (unique)"
   ]
  },
  {
   "cell_type": "code",
   "execution_count": null,
   "metadata": {
    "scrolled": true,
    "slideshow": {
     "slide_type": "fragment"
    }
   },
   "outputs": [],
   "source": [
    "def counter(list_to_search):\n",
    "    unique_words = set(list_to_search)\n",
    "    print(\"Anzahl der mindestens einmal vorkommenden Worte: \",\n",
    "          len(unique_words))\n",
    "    for word in unique_words:\n",
    "        print(word, count_in_list(word, list_to_search))\n",
    "    \n",
    "counter(words)"
   ]
  },
  {
   "cell_type": "markdown",
   "metadata": {
    "slideshow": {
     "slide_type": "slide"
    }
   },
   "source": [
    "## Wörter zählen mit einem Dictionary"
   ]
  },
  {
   "cell_type": "code",
   "execution_count": null,
   "metadata": {
    "collapsed": true,
    "scrolled": true,
    "slideshow": {
     "slide_type": "fragment"
    }
   },
   "outputs": [],
   "source": [
    "def counter_dict(list_to_search):                 \n",
    "    counts = {}                              \n",
    "    for word in list_to_search:              \n",
    "        if word in counts:                   \n",
    "            counts[word] = counts[word] + 1  \n",
    "        else:                                \n",
    "            counts[word] = 1                 \n",
    "    return counts\n",
    "\n",
    "counter2(words)"
   ]
  },
  {
   "cell_type": "markdown",
   "metadata": {
    "slideshow": {
     "slide_type": "slide"
    }
   },
   "source": [
    "## Ergebnis der Wortverteilung in einer Datei schreiben"
   ]
  },
  {
   "cell_type": "code",
   "execution_count": null,
   "metadata": {
    "collapsed": true,
    "scrolled": true,
    "slideshow": {
     "slide_type": "fragment"
    }
   },
   "outputs": [],
   "source": [
    "frequency_distribution = counter_dict(words)\n",
    "\n",
    "with open(\"grundgesetz-wortverteilung.txt\", \"w\", \n",
    "          encoding=\"utf-8)\") as outfile:\n",
    "    for word, frequency in frequency_distribution.items():\n",
    "        outfile.write(word + \" => \" + str(frequency) + '\\n')\n",
    "    "
   ]
  },
  {
   "cell_type": "markdown",
   "metadata": {
    "slideshow": {
     "slide_type": "slide"
    }
   },
   "source": [
    "## Wortverteilung absteigend sortieren"
   ]
  },
  {
   "cell_type": "code",
   "execution_count": null,
   "metadata": {
    "slideshow": {
     "slide_type": "fragment"
    }
   },
   "outputs": [],
   "source": [
    "def freq_count(list_to_search):       \n",
    "    counts = counter_dict(list_to_search)\n",
    "    counts = [(counts[key], key) for key in counts]\n",
    "    counts.sort()\n",
    "    counts.reverse()\n",
    "    return counts\n",
    "\n",
    "freq_count(words)[:20]"
   ]
  },
  {
   "cell_type": "markdown",
   "metadata": {
    "slideshow": {
     "slide_type": "subslide"
    }
   },
   "source": [
    "### Variante 2: sortieren"
   ]
  },
  {
   "cell_type": "code",
   "execution_count": null,
   "metadata": {
    "slideshow": {
     "slide_type": "fragment"
    }
   },
   "outputs": [],
   "source": [
    "def freq_count_2(list_to_search):       \n",
    "    counts = counter_dict(list_to_search)\n",
    "\n",
    "    return ([(k, counts[k]) for k in \n",
    "             sorted(counts, key=counts.get, reverse=True)])\n",
    "\n",
    "freq_count_2(words)[:20]"
   ]
  },
  {
   "cell_type": "markdown",
   "metadata": {
    "slideshow": {
     "slide_type": "slide"
    }
   },
   "source": [
    "## Ergebnis der sortierten Wortverteilung in eine Datei schreiben"
   ]
  },
  {
   "cell_type": "code",
   "execution_count": null,
   "metadata": {
    "slideshow": {
     "slide_type": "fragment"
    }
   },
   "outputs": [],
   "source": [
    "frequency_distribution_2 = freq_count(words)\n",
    "\n",
    "with open(\"grundgesetz-wortverteilung-sortiert.txt\", \"w\", \n",
    "          encoding=\"utf-8\") as outfile:\n",
    "    for frequency, word  in frequency_distribution_2:\n",
    "        outfile.write(word + \" => \" + str(frequency) + '\\n')"
   ]
  },
  {
   "cell_type": "code",
   "execution_count": null,
   "metadata": {
    "slideshow": {
     "slide_type": "fragment"
    }
   },
   "outputs": [],
   "source": [
    "def write_frequency_distribution(list_to_search):\n",
    "    frequency_distribution = freq_count_2(list_to_search)\n",
    "\n",
    "    with open(\"grundgesetz-wortverteilung-sortiert_f.txt\", \"w\", \n",
    "              encoding=\"utf-8\") as outfile:\n",
    "        for word, frequency in frequency_distribution:\n",
    "            outfile.write(word + \" => \" + str(frequency) + '\\n')\n",
    "            \n",
    "write_frequency_distribution(words)"
   ]
  },
  {
   "cell_type": "markdown",
   "metadata": {
    "slideshow": {
     "slide_type": "slide"
    }
   },
   "source": [
    "## Entfernen von Stoppwörtern"
   ]
  },
  {
   "cell_type": "code",
   "execution_count": null,
   "metadata": {
    "slideshow": {
     "slide_type": "fragment"
    }
   },
   "outputs": [],
   "source": [
    "def remove_stopwords(list_to_search):\n",
    "    with open(\"stoppwortliste_raw.txt\", \n",
    "              encoding=\"utf-8\") as file:\n",
    "        stopwords = file.read()\n",
    "    stopwords = stopwords.split()\n",
    "    return [w for w in list_to_search if w not in stopwords]\n",
    "  \n",
    "remove_stopwords(words)"
   ]
  },
  {
   "cell_type": "code",
   "execution_count": null,
   "metadata": {
    "slideshow": {
     "slide_type": "subslide"
    }
   },
   "outputs": [],
   "source": [
    "def remove_stopwords_prepared(list_to_search):\n",
    "    with open(\"stoppwortliste_prepared.txt\", \n",
    "              encoding=\"utf-8\") as file:\n",
    "        stopwords = file.read()\n",
    "    stopwords = stopwords.split()\n",
    "    return [w for w in list_to_search if w not in stopwords]\n",
    "  \n",
    "remove_stopwords_prepared(words)"
   ]
  },
  {
   "cell_type": "markdown",
   "metadata": {
    "slideshow": {
     "slide_type": "slide"
    }
   },
   "source": [
    "## Workflow: Funktionsaufrufe"
   ]
  },
  {
   "cell_type": "code",
   "execution_count": null,
   "metadata": {
    "slideshow": {
     "slide_type": "fragment"
    }
   },
   "outputs": [],
   "source": [
    "with open(\"grundgesetz.txt\", encoding=\"utf-8\") as infile:\n",
    "    grundgesetz = infile.read()\n",
    "\n",
    "text = clean_text(grundgesetz)\n",
    "words = text.split()\n",
    "clean_words = remove_stopwords(words)\n",
    "write_frequency_distribution(clean_words)"
   ]
  },
  {
   "cell_type": "code",
   "execution_count": null,
   "metadata": {
    "slideshow": {
     "slide_type": "fragment"
    }
   },
   "outputs": [],
   "source": [
    "with open(\"grundgesetz.txt\", encoding=\"utf-8\") as infile:\n",
    "    grundgesetz = infile.read()\n",
    "\n",
    "text = clean_text(grundgesetz)\n",
    "words = text.split()\n",
    "clean_words = remove_stopwords_prepared(words)\n",
    "write_frequency_distribution(clean_words)"
   ]
  },
  {
   "cell_type": "markdown",
   "metadata": {
    "slideshow": {
     "slide_type": "slide"
    }
   },
   "source": [
    "## Visualisieren der Worthäufigkeiten"
   ]
  },
  {
   "cell_type": "code",
   "execution_count": null,
   "metadata": {
    "slideshow": {
     "slide_type": "fragment"
    }
   },
   "outputs": [],
   "source": [
    "%matplotlib inline\n",
    "\n",
    "import matplotlib.pyplot as plt\n",
    "import seaborn as sns"
   ]
  },
  {
   "cell_type": "code",
   "execution_count": null,
   "metadata": {
    "slideshow": {
     "slide_type": "fragment"
    }
   },
   "outputs": [],
   "source": [
    "data = freq_count(clean_words)"
   ]
  },
  {
   "cell_type": "code",
   "execution_count": null,
   "metadata": {
    "slideshow": {
     "slide_type": "slide"
    }
   },
   "outputs": [],
   "source": [
    "sns.set_style(\"white\")\n",
    "\n",
    "fig, ax = plt.subplots()\n",
    "fig.dpi = 150\n",
    "\n",
    "wert = 25 \n",
    "\n",
    "words = [x[1] for x in data[:wert]]\n",
    "values = [int(x[0]) for x in data[:wert]]\n",
    "mybar = plt.bar(range(len(words)), values, alpha=0.4)\n",
    "                \n",
    "ax.set_xlabel('Wort Index')\n",
    "ax.set_xticklabels([x for x in words], rotation=90)\n",
    "ax.set_xticks([x for x in range(wert)])\n",
    "ax.set_ylabel('Häufigkeiten')\n",
    "ax.set_title('Worhäufigkeiten')\n",
    "\n",
    "plt.show()\n",
    "#plt.savefig(\"Barchart_Worthaeufigkeiten.png\", dpi=300, bbox_inches=\"tight\")"
   ]
  },
  {
   "cell_type": "markdown",
   "metadata": {
    "slideshow": {
     "slide_type": "slide"
    }
   },
   "source": [
    "![Balkendiagramm](img_Preprocessing/Barchart_Worthaeufigkeiten.PNG)"
   ]
  },
  {
   "cell_type": "code",
   "execution_count": null,
   "metadata": {
    "slideshow": {
     "slide_type": "slide"
    }
   },
   "outputs": [],
   "source": [
    "sns.set_style(\"white\")\n",
    "\n",
    "fig, ax = plt.subplots()\n",
    "fig.dpi = 150\n",
    "\n",
    "wert = 25 \n",
    "\n",
    "words = [x[1] for x in data[:wert]]\n",
    "values = [int(x[0]) for x in data[:wert]]\n",
    "mybar = plt.barh(range(len(words)), values, alpha=0.4)\n",
    "                \n",
    "ax.set_xlabel('Häufigkeiten')\n",
    "ax.set_yticklabels([x for x in words])\n",
    "ax.set_yticks([x for x in range(wert)])\n",
    "ax.invert_yaxis() \n",
    "ax.set_ylabel('Wort Index')\n",
    "ax.set_title('Worthäufigkeiten')\n",
    "\n",
    "plt.show()\n",
    "#plt.savefig(\"HBarchart_Worthaeufigkeiten.png\", dpi=300, bbox_inches=\"tight\")"
   ]
  },
  {
   "cell_type": "markdown",
   "metadata": {
    "slideshow": {
     "slide_type": "slide"
    }
   },
   "source": [
    "![Horizontales Balkendiagramm](img_Preprocessing/HBarchart_Worthaeufigkeiten.PNG)"
   ]
  }
 ],
 "metadata": {
  "kernelspec": {
   "display_name": "Python 3",
   "language": "python",
   "name": "python3"
  },
  "language_info": {
   "codemirror_mode": {
    "name": "ipython",
    "version": 3
   },
   "file_extension": ".py",
   "mimetype": "text/x-python",
   "name": "python",
   "nbconvert_exporter": "python",
   "pygments_lexer": "ipython3",
   "version": "3.6.6"
  }
 },
 "nbformat": 4,
 "nbformat_minor": 2
}
